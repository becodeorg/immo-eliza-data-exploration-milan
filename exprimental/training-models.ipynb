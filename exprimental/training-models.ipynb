{
 "cells": [
  {
   "cell_type": "code",
   "execution_count": 1,
   "id": "af752143",
   "metadata": {},
   "outputs": [],
   "source": [
    "import pandas as pd\n",
    "import numpy as np\n",
    "from sklearn.model_selection import train_test_split\n",
    "from sklearn.linear_model import LinearRegression\n",
    "from sklearn.ensemble import RandomForestRegressor\n",
    "# from sklearn.preprocessing import StandardScaler\n",
    "from sklearn.metrics import mean_absolute_error, mean_absolute_percentage_error, root_mean_squared_error, r2_score\n",
    "\n",
    "import xgboost as xgb"
   ]
  },
  {
   "cell_type": "code",
   "execution_count": 2,
   "id": "43f49cb5",
   "metadata": {},
   "outputs": [
    {
     "data": {
      "application/vnd.microsoft.datawrangler.viewer.v0+json": {
       "columns": [
        {
         "name": "index",
         "rawType": "int64",
         "type": "integer"
        },
        {
         "name": "type",
         "rawType": "int64",
         "type": "integer"
        },
        {
         "name": "subtype",
         "rawType": "float64",
         "type": "float"
        },
        {
         "name": "bedroomCount",
         "rawType": "float64",
         "type": "float"
        },
        {
         "name": "bathroomCount",
         "rawType": "float64",
         "type": "float"
        },
        {
         "name": "postCode",
         "rawType": "float64",
         "type": "float"
        },
        {
         "name": "habitableSurface",
         "rawType": "float64",
         "type": "float"
        },
        {
         "name": "hasBasement",
         "rawType": "int64",
         "type": "integer"
        },
        {
         "name": "hasDressingRoom",
         "rawType": "int64",
         "type": "integer"
        },
        {
         "name": "buildingCondition",
         "rawType": "float64",
         "type": "float"
        },
        {
         "name": "buildingConstructionYear",
         "rawType": "float64",
         "type": "float"
        },
        {
         "name": "facedeCount",
         "rawType": "float64",
         "type": "float"
        },
        {
         "name": "hasLift",
         "rawType": "int64",
         "type": "integer"
        },
        {
         "name": "floodZoneType",
         "rawType": "float64",
         "type": "float"
        },
        {
         "name": "heatingType",
         "rawType": "float64",
         "type": "float"
        },
        {
         "name": "hasHeatPump",
         "rawType": "int64",
         "type": "integer"
        },
        {
         "name": "hasPhotovoltaicPanels",
         "rawType": "int64",
         "type": "integer"
        },
        {
         "name": "hasThermicPanels",
         "rawType": "int64",
         "type": "integer"
        },
        {
         "name": "kitchenType",
         "rawType": "int64",
         "type": "integer"
        },
        {
         "name": "landSurface",
         "rawType": "float64",
         "type": "float"
        },
        {
         "name": "livingRoomSurface",
         "rawType": "float64",
         "type": "float"
        },
        {
         "name": "gardenSurface",
         "rawType": "float64",
         "type": "float"
        },
        {
         "name": "parkingCountIndoor",
         "rawType": "float64",
         "type": "float"
        },
        {
         "name": "parkingCountOutdoor",
         "rawType": "float64",
         "type": "float"
        },
        {
         "name": "hasAirConditioning",
         "rawType": "int64",
         "type": "integer"
        },
        {
         "name": "hasArmoredDoor",
         "rawType": "int64",
         "type": "integer"
        },
        {
         "name": "hasVisiophone",
         "rawType": "int64",
         "type": "integer"
        },
        {
         "name": "hasOffice",
         "rawType": "int64",
         "type": "integer"
        },
        {
         "name": "toiletCount",
         "rawType": "float64",
         "type": "float"
        },
        {
         "name": "hasSwimmingPool",
         "rawType": "int64",
         "type": "integer"
        },
        {
         "name": "hasFireplace",
         "rawType": "int64",
         "type": "integer"
        },
        {
         "name": "hasTerrace",
         "rawType": "int64",
         "type": "integer"
        },
        {
         "name": "terraceSurface",
         "rawType": "float64",
         "type": "float"
        },
        {
         "name": "price",
         "rawType": "float64",
         "type": "float"
        },
        {
         "name": "epc_kwh",
         "rawType": "float64",
         "type": "float"
        }
       ],
       "conversionMethod": "pd.DataFrame",
       "ref": "590d3193-131c-4105-b1b1-10d79cba91cb",
       "rows": [
        [
         "0",
         "0",
         "4.0",
         "2.0",
         "1.0",
         "426397.0",
         "100.0",
         "1",
         "0",
         "3.0",
         "2004.0",
         "1.0",
         "1",
         "7.0",
         "5.0",
         "0",
         "0",
         "0",
         "1",
         "0.0",
         "35.0",
         "0.0",
         "1.0",
         "0.0",
         "0",
         "0",
         "1",
         "0",
         "1.0",
         "0",
         "0",
         "1",
         "7.0",
         "399000.0",
         "175.0"
        ],
        [
         "1",
         "0",
         "4.0",
         "2.0",
         "2.0",
         "426397.0",
         "104.0",
         "0",
         "0",
         "5.0",
         "2018.0",
         "3.0",
         "1",
         "1.0",
         "5.0",
         "0",
         "0",
         "0",
         "6",
         "0.0",
         "38.0",
         "0.0",
         "0.0",
         "0.0",
         "0",
         "1",
         "1",
         "0",
         "2.0",
         "0",
         "0",
         "1",
         "3.0",
         "590000.0",
         "125.0"
        ],
        [
         "2",
         "0",
         "4.0",
         "1.0",
         "1.0",
         "426397.0",
         "71.0",
         "0",
         "0",
         "5.0",
         "1906.0",
         "2.0",
         "0",
         "7.0",
         "5.0",
         "0",
         "0",
         "0",
         "4",
         "0.0",
         "0.0",
         "0.0",
         "0.0",
         "0.0",
         "0",
         "0",
         "0",
         "0",
         "1.0",
         "0",
         "0",
         "0",
         "0.0",
         "289000.0",
         "325.0"
        ],
        [
         "3",
         "0",
         "4.0",
         "2.0",
         "1.0",
         "426397.0",
         "187.0",
         "0",
         "0",
         "5.0",
         "2023.0",
         "3.0",
         "1",
         "7.0",
         "5.0",
         "0",
         "0",
         "0",
         "6",
         "0.0",
         "0.0",
         "0.0",
         "0.0",
         "1.0",
         "0",
         "0",
         "1",
         "1",
         "2.0",
         "0",
         "0",
         "1",
         "25.0",
         "795000.0",
         "175.0"
        ],
        [
         "4",
         "0",
         "4.0",
         "1.0",
         "1.0",
         "426397.0",
         "93.0",
         "1",
         "0",
         "2.0",
         "1947.0",
         "2.0",
         "1",
         "7.0",
         "3.0",
         "0",
         "0",
         "0",
         "4",
         "0.0",
         "42.0",
         "0.0",
         "0.0",
         "0.0",
         "0",
         "0",
         "0",
         "0",
         "1.0",
         "0",
         "0",
         "1",
         "5.0",
         "297000.0",
         "425.0"
        ]
       ],
       "shape": {
        "columns": 34,
        "rows": 5
       }
      },
      "text/html": [
       "<div>\n",
       "<style scoped>\n",
       "    .dataframe tbody tr th:only-of-type {\n",
       "        vertical-align: middle;\n",
       "    }\n",
       "\n",
       "    .dataframe tbody tr th {\n",
       "        vertical-align: top;\n",
       "    }\n",
       "\n",
       "    .dataframe thead th {\n",
       "        text-align: right;\n",
       "    }\n",
       "</style>\n",
       "<table border=\"1\" class=\"dataframe\">\n",
       "  <thead>\n",
       "    <tr style=\"text-align: right;\">\n",
       "      <th></th>\n",
       "      <th>type</th>\n",
       "      <th>subtype</th>\n",
       "      <th>bedroomCount</th>\n",
       "      <th>bathroomCount</th>\n",
       "      <th>postCode</th>\n",
       "      <th>habitableSurface</th>\n",
       "      <th>hasBasement</th>\n",
       "      <th>hasDressingRoom</th>\n",
       "      <th>buildingCondition</th>\n",
       "      <th>buildingConstructionYear</th>\n",
       "      <th>...</th>\n",
       "      <th>hasArmoredDoor</th>\n",
       "      <th>hasVisiophone</th>\n",
       "      <th>hasOffice</th>\n",
       "      <th>toiletCount</th>\n",
       "      <th>hasSwimmingPool</th>\n",
       "      <th>hasFireplace</th>\n",
       "      <th>hasTerrace</th>\n",
       "      <th>terraceSurface</th>\n",
       "      <th>price</th>\n",
       "      <th>epc_kwh</th>\n",
       "    </tr>\n",
       "  </thead>\n",
       "  <tbody>\n",
       "    <tr>\n",
       "      <th>0</th>\n",
       "      <td>0</td>\n",
       "      <td>4.0</td>\n",
       "      <td>2.0</td>\n",
       "      <td>1.0</td>\n",
       "      <td>426397.0</td>\n",
       "      <td>100.0</td>\n",
       "      <td>1</td>\n",
       "      <td>0</td>\n",
       "      <td>3.0</td>\n",
       "      <td>2004.0</td>\n",
       "      <td>...</td>\n",
       "      <td>0</td>\n",
       "      <td>1</td>\n",
       "      <td>0</td>\n",
       "      <td>1.0</td>\n",
       "      <td>0</td>\n",
       "      <td>0</td>\n",
       "      <td>1</td>\n",
       "      <td>7.0</td>\n",
       "      <td>399000.0</td>\n",
       "      <td>175.0</td>\n",
       "    </tr>\n",
       "    <tr>\n",
       "      <th>1</th>\n",
       "      <td>0</td>\n",
       "      <td>4.0</td>\n",
       "      <td>2.0</td>\n",
       "      <td>2.0</td>\n",
       "      <td>426397.0</td>\n",
       "      <td>104.0</td>\n",
       "      <td>0</td>\n",
       "      <td>0</td>\n",
       "      <td>5.0</td>\n",
       "      <td>2018.0</td>\n",
       "      <td>...</td>\n",
       "      <td>1</td>\n",
       "      <td>1</td>\n",
       "      <td>0</td>\n",
       "      <td>2.0</td>\n",
       "      <td>0</td>\n",
       "      <td>0</td>\n",
       "      <td>1</td>\n",
       "      <td>3.0</td>\n",
       "      <td>590000.0</td>\n",
       "      <td>125.0</td>\n",
       "    </tr>\n",
       "    <tr>\n",
       "      <th>2</th>\n",
       "      <td>0</td>\n",
       "      <td>4.0</td>\n",
       "      <td>1.0</td>\n",
       "      <td>1.0</td>\n",
       "      <td>426397.0</td>\n",
       "      <td>71.0</td>\n",
       "      <td>0</td>\n",
       "      <td>0</td>\n",
       "      <td>5.0</td>\n",
       "      <td>1906.0</td>\n",
       "      <td>...</td>\n",
       "      <td>0</td>\n",
       "      <td>0</td>\n",
       "      <td>0</td>\n",
       "      <td>1.0</td>\n",
       "      <td>0</td>\n",
       "      <td>0</td>\n",
       "      <td>0</td>\n",
       "      <td>0.0</td>\n",
       "      <td>289000.0</td>\n",
       "      <td>325.0</td>\n",
       "    </tr>\n",
       "    <tr>\n",
       "      <th>3</th>\n",
       "      <td>0</td>\n",
       "      <td>4.0</td>\n",
       "      <td>2.0</td>\n",
       "      <td>1.0</td>\n",
       "      <td>426397.0</td>\n",
       "      <td>187.0</td>\n",
       "      <td>0</td>\n",
       "      <td>0</td>\n",
       "      <td>5.0</td>\n",
       "      <td>2023.0</td>\n",
       "      <td>...</td>\n",
       "      <td>0</td>\n",
       "      <td>1</td>\n",
       "      <td>1</td>\n",
       "      <td>2.0</td>\n",
       "      <td>0</td>\n",
       "      <td>0</td>\n",
       "      <td>1</td>\n",
       "      <td>25.0</td>\n",
       "      <td>795000.0</td>\n",
       "      <td>175.0</td>\n",
       "    </tr>\n",
       "    <tr>\n",
       "      <th>4</th>\n",
       "      <td>0</td>\n",
       "      <td>4.0</td>\n",
       "      <td>1.0</td>\n",
       "      <td>1.0</td>\n",
       "      <td>426397.0</td>\n",
       "      <td>93.0</td>\n",
       "      <td>1</td>\n",
       "      <td>0</td>\n",
       "      <td>2.0</td>\n",
       "      <td>1947.0</td>\n",
       "      <td>...</td>\n",
       "      <td>0</td>\n",
       "      <td>0</td>\n",
       "      <td>0</td>\n",
       "      <td>1.0</td>\n",
       "      <td>0</td>\n",
       "      <td>0</td>\n",
       "      <td>1</td>\n",
       "      <td>5.0</td>\n",
       "      <td>297000.0</td>\n",
       "      <td>425.0</td>\n",
       "    </tr>\n",
       "  </tbody>\n",
       "</table>\n",
       "<p>5 rows × 34 columns</p>\n",
       "</div>"
      ],
      "text/plain": [
       "   type  subtype  bedroomCount  bathroomCount  postCode  habitableSurface  \\\n",
       "0     0      4.0           2.0            1.0  426397.0             100.0   \n",
       "1     0      4.0           2.0            2.0  426397.0             104.0   \n",
       "2     0      4.0           1.0            1.0  426397.0              71.0   \n",
       "3     0      4.0           2.0            1.0  426397.0             187.0   \n",
       "4     0      4.0           1.0            1.0  426397.0              93.0   \n",
       "\n",
       "   hasBasement  hasDressingRoom  buildingCondition  buildingConstructionYear  \\\n",
       "0            1                0                3.0                    2004.0   \n",
       "1            0                0                5.0                    2018.0   \n",
       "2            0                0                5.0                    1906.0   \n",
       "3            0                0                5.0                    2023.0   \n",
       "4            1                0                2.0                    1947.0   \n",
       "\n",
       "   ...  hasArmoredDoor  hasVisiophone  hasOffice  toiletCount  \\\n",
       "0  ...               0              1          0          1.0   \n",
       "1  ...               1              1          0          2.0   \n",
       "2  ...               0              0          0          1.0   \n",
       "3  ...               0              1          1          2.0   \n",
       "4  ...               0              0          0          1.0   \n",
       "\n",
       "   hasSwimmingPool  hasFireplace  hasTerrace  terraceSurface     price  \\\n",
       "0                0             0           1             7.0  399000.0   \n",
       "1                0             0           1             3.0  590000.0   \n",
       "2                0             0           0             0.0  289000.0   \n",
       "3                0             0           1            25.0  795000.0   \n",
       "4                0             0           1             5.0  297000.0   \n",
       "\n",
       "   epc_kwh  \n",
       "0    175.0  \n",
       "1    125.0  \n",
       "2    325.0  \n",
       "3    175.0  \n",
       "4    425.0  \n",
       "\n",
       "[5 rows x 34 columns]"
      ]
     },
     "execution_count": 2,
     "metadata": {},
     "output_type": "execute_result"
    }
   ],
   "source": [
    "# Load the data from the CSV file\n",
    "df = pd.read_csv(\"../datasets/kangaroo-cleaned.csv\")\n",
    "\n",
    "# Display the first few rows to verify the data was loaded correctly\n",
    "df.head(5)"
   ]
  },
  {
   "cell_type": "markdown",
   "id": "f3cea4aa",
   "metadata": {},
   "source": [
    "Get relevant features "
   ]
  },
  {
   "cell_type": "code",
   "execution_count": 3,
   "id": "21d1cc52",
   "metadata": {},
   "outputs": [
    {
     "data": {
      "text/plain": [
       "['postCode',\n",
       " 'habitableSurface',\n",
       " 'toiletCount',\n",
       " 'bedroomCount',\n",
       " 'bathroomCount',\n",
       " 'subtype',\n",
       " 'kitchenType',\n",
       " 'buildingCondition',\n",
       " 'epc_kwh',\n",
       " 'landSurface',\n",
       " 'hasPhotovoltaicPanels',\n",
       " 'facedeCount',\n",
       " 'type',\n",
       " 'hasHeatPump',\n",
       " 'hasOffice',\n",
       " 'buildingConstructionYear',\n",
       " 'parkingCountOutdoor',\n",
       " 'hasTerrace',\n",
       " 'terraceSurface',\n",
       " 'hasThermicPanels',\n",
       " 'hasSwimmingPool',\n",
       " 'hasFireplace',\n",
       " 'hasDressingRoom']"
      ]
     },
     "execution_count": 3,
     "metadata": {},
     "output_type": "execute_result"
    }
   ],
   "source": [
    "# Calculate the correlation matrix, excluding propertyId\n",
    "correlation_matrix = df.corr()\n",
    "price_correlations = correlation_matrix['price'].abs().sort_values(ascending=False)\n",
    "\n",
    "features = price_correlations[price_correlations > 0.09].index.tolist() #list top correlated features \n",
    "features = features[1:] # remove price from the list of features\n",
    "\n",
    "features"
   ]
  },
  {
   "cell_type": "markdown",
   "id": "61c783b5",
   "metadata": {},
   "source": [
    "Prepare for regression + Standardize scales"
   ]
  },
  {
   "cell_type": "code",
   "execution_count": 4,
   "id": "911ef947",
   "metadata": {},
   "outputs": [],
   "source": [
    "target = 'price'\n",
    "\n",
    "x = df[features]\n",
    "y = df[target]\n",
    "\n",
    "# Split the dataset\n",
    "X_train, X_test, y_train, y_test = train_test_split(x, y, test_size=0.2, random_state=42)\n",
    "\n",
    "# Scale features\n",
    "# scaler = StandardScaler()\n",
    "# X_train_scaled = scaler.fit_transform(X_train)\n",
    "# X_test_scaled = scaler.transform(X_test)"
   ]
  },
  {
   "cell_type": "markdown",
   "id": "9ccf9112",
   "metadata": {},
   "source": [
    "---\n",
    "## Option 1: Linear Regression Coefficients (for linear relationships)"
   ]
  },
  {
   "cell_type": "code",
   "execution_count": 5,
   "id": "6073474a",
   "metadata": {},
   "outputs": [
    {
     "data": {
      "text/plain": [
       "<Axes: title={'center': 'Linear Regression Feature Importance'}>"
      ]
     },
     "execution_count": 5,
     "metadata": {},
     "output_type": "execute_result"
    },
    {
     "data": {
      "image/png": "[encoded data removed]",
      "text/plain": [
       "<Figure size 640x480 with 1 Axes>"
      ]
     },
     "metadata": {},
     "output_type": "display_data"
    }
   ],
   "source": [
    "lr = LinearRegression()\n",
    "lr.fit(X_train, y_train)\n",
    "\n",
    "# Get importance from coefficients (absolute values give relative importance)\n",
    "importance = pd.Series(np.abs(lr.coef_), index=features)\n",
    "importance.sort_values(ascending=False).plot(kind='barh', title='Linear Regression Feature Importance')"
   ]
  },
  {
   "cell_type": "markdown",
   "id": "7481503c",
   "metadata": {},
   "source": [
    "## Evaluate Model"
   ]
  },
  {
   "cell_type": "code",
   "execution_count": 6,
   "id": "43b1730e",
   "metadata": {},
   "outputs": [
    {
     "name": "stdout",
     "output_type": "stream",
     "text": [
      "RMSE: 94366.80079867611\n",
      "R² Score: 0.6458748805581449\n",
      "MAPE: 21.932807389439258 %\n",
      "MAE: 69273.30665224358\n"
     ]
    }
   ],
   "source": [
    "y_pred = lr.predict(X_test)\n",
    "print(\"RMSE:\", root_mean_squared_error(y_test, y_pred))\n",
    "print(\"R² Score:\", r2_score(y_test, y_pred))\n",
    "print(\"MAPE:\", np.mean(np.abs((y_test - y_pred) / y_test)) * 100, \"%\")\n",
    "print(\"MAE:\", np.mean(np.abs(y_test - y_pred)))"
   ]
  },
  {
   "cell_type": "markdown",
   "id": "c3a6b5f4",
   "metadata": {},
   "source": [
    "---\n",
    "\n",
    "## Option 2: XGBoost\n",
    "XGBoost (eXtreme Gradient Boosting) is another powerful ensemble learning technique that often outperforms both linear regression and random forest models. It uses gradient boosting with regularization to reduce overfitting and improve performance.\n",
    "\n",
    "Key advantages of XGBoost:\n",
    "- High performance and efficient computation\n",
    "- Regularization to prevent overfitting\n",
    "- Handles missing values automatically\n",
    "- Supports parallel processing\n",
    "- Offers built-in cross-validation\n",
    "\n",
    "For our housing price prediction task, XGBoost can capture complex non-linear relationships while maintaining good generalization performance."
   ]
  },
  {
   "cell_type": "code",
   "execution_count": 7,
   "id": "b136ac09",
   "metadata": {},
   "outputs": [
    {
     "data": {
      "text/plain": [
       "<Axes: title={'center': 'XGBoost Feature Importance'}>"
      ]
     },
     "execution_count": 7,
     "metadata": {},
     "output_type": "execute_result"
    },
    {
     "data": {
      "image/png": "[encoded data removed]",
      "text/plain": [
       "<Figure size 640x480 with 1 Axes>"
      ]
     },
     "metadata": {},
     "output_type": "display_data"
    }
   ],
   "source": [
    "\n",
    "# Initialize XGBoost model with good default parameters\n",
    "xgb_model = xgb.XGBRegressor(\n",
    "    n_estimators=200,\n",
    "    learning_rate=0.2,\n",
    "    max_depth=7,\n",
    "    min_child_weight=1,\n",
    "    subsample=1.0,\n",
    "    colsample_bytree=0.6,\n",
    "    objective='reg:squarederror',\n",
    "    random_state=42\n",
    ")\n",
    "\n",
    "# Finetuning with GridSearchCV,\n",
    "# from sklearn.model_selection import GridSearchCV\n",
    "# param_grid = {\n",
    "#     'n_estimators': [50, 100, 200],\n",
    "#     'max_depth': [3, 5, 7],\n",
    "#     'learning_rate': [0.01, 0.1, 0.2],\n",
    "#     'subsample': [0.6, 0.8, 1.0],\n",
    "#     'colsample_bytree': [0.6, 0.8, 1.0],\n",
    "#     'min_child_weight': [1, 3, 5]\n",
    "# }\n",
    "# grid_search = GridSearchCV(\n",
    "#     estimator=xgb.XGBRegressor(objective='reg:squarederror', random_state=42),\n",
    "#     param_grid=param_grid,\n",
    "#     scoring='neg_mean_squared_error',\n",
    "#     cv=3,\n",
    "#     verbose=1,\n",
    "#     n_jobs=-1\n",
    "# )\n",
    "# grid_search.fit(X_train, y_train)\n",
    "# best_params = grid_search.best_params_\n",
    "# print(f\"Best parameters: {best_params}\")\n",
    "# xgb_model = xgb.XGBRegressor(objective='reg:squarederror', random_state=42, **best_params)\n",
    "\n",
    "# Train the model\n",
    "xgb_model.fit(X_train, y_train)\n",
    "\n",
    "# Get feature importance\n",
    "importance = pd.Series(xgb_model.feature_importances_, index=features)\n",
    "importance.sort_values(ascending=True).plot(\n",
    "    kind='barh', \n",
    "    title='XGBoost Feature Importance'\n",
    ")"
   ]
  },
  {
   "cell_type": "markdown",
   "id": "49788b21",
   "metadata": {},
   "source": [
    "### Evaluate Model"
   ]
  },
  {
   "cell_type": "code",
   "execution_count": 8,
   "id": "faf633d2",
   "metadata": {},
   "outputs": [
    {
     "name": "stdout",
     "output_type": "stream",
     "text": [
      "XGBoost Performance Metrics:\n",
      "RMSE: 73995.06253287874\n",
      "R² Score: 0.7822672523190173\n",
      "MAPE: 16.00695310341115 %\n",
      "MAE: 51981.833198879074\n"
     ]
    }
   ],
   "source": [
    "# Make predictions\n",
    "y_pred = xgb_model.predict(X_test)\n",
    "\n",
    "# Evaluate the model\n",
    "print(\"XGBoost Performance Metrics:\")\n",
    "print(\"RMSE:\", root_mean_squared_error(y_test, y_pred))\n",
    "print(\"R² Score:\", r2_score(y_test, y_pred))\n",
    "print(\"MAPE:\", mean_absolute_percentage_error(y_test, y_pred) * 100, \"%\")\n",
    "print(\"MAE:\", mean_absolute_error(y_test, y_pred))"
   ]
  }
 ],
 "metadata": {
  "kernelspec": {
   "display_name": "venv",
   "language": "python",
   "name": "python3"
  },
  "language_info": {
   "codemirror_mode": {
    "name": "ipython",
    "version": 3
   },
   "file_extension": ".py",
   "mimetype": "text/x-python",
   "name": "python",
   "nbconvert_exporter": "python",
   "pygments_lexer": "ipython3",
   "version": "3.11.2"
  }
 },
 "nbformat": 4,
 "nbformat_minor": 5
}
